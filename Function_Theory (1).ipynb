{
  "nbformat": 4,
  "nbformat_minor": 0,
  "metadata": {
    "colab": {
      "provenance": []
    },
    "kernelspec": {
      "name": "python3",
      "display_name": "Python 3"
    },
    "language_info": {
      "name": "python"
    }
  },
  "cells": [
    {
      "cell_type": "code",
      "source": [
        "\"\"\"\n",
        "QSN-12-What is the difference between `map()`, `reduce()`, and `filter()` functions in Python?\n",
        "ANS-\n",
        "reduce-It \"reduces\" a sequence of values down to a single value.\n",
        "      -It's like aggregating elements of a collection into a single value.\n",
        "filter-The primary goal is to selectively extract elements from an iterable based on a specific condition.\n",
        "      -filter() selects a subset of elements from a collection based on a condition.\n",
        "map-   Applies a given function to each item of an iterable (such as a list, tuple, or string)\n",
        "       and returns a new iterable with the results.\n",
        "explaining all by example;\n",
        "\"\"\"\n",
        "#reduce;\n",
        "from functools import reduce\n",
        "numbers = [1, 2, 3, 4, 5]\n",
        "sum_of_numbers = reduce(lambda x, y: x + y, numbers)\n",
        "print(sum_of_numbers)\n",
        "\n",
        "#filter;\n",
        "numbers = [1, 2, 3, 4, 5]\n",
        "odd_numbers = list(filter(lambda x: x % 2 != 0, numbers))\n",
        "print(odd_numbers)\n",
        "\n",
        "#map;\n",
        "numbers = [1, 2, 3, 4, 5]\n",
        "squared_numbers = list(map(lambda x: x**2, numbers))\n",
        "print(squared_numbers)"
      ],
      "metadata": {
        "colab": {
          "base_uri": "https://localhost:8080/"
        },
        "id": "Ws1cnPrFmRf6",
        "outputId": "f46f3e60-c0b8-4099-d101-db38d0fe6b0d"
      },
      "execution_count": null,
      "outputs": [
        {
          "output_type": "stream",
          "name": "stdout",
          "text": [
            "15\n",
            "[1, 3, 5]\n",
            "[1, 4, 9, 16, 25]\n"
          ]
        }
      ]
    },
    {
      "cell_type": "code",
      "source": [
        "#QSN-11-write the internal mechanism for sum operation using  reduce function on this given list:[47,11,42,13].\n",
        "from functools import reduce\n",
        "numbers=[47,11,42,13]\n",
        "result=reduce(lambda x,y:x+y,numbers)\n",
        "print(result)"
      ],
      "metadata": {
        "colab": {
          "base_uri": "https://localhost:8080/"
        },
        "id": "6QxK2TNoIbjO",
        "outputId": "d2989e0b-c1fc-4f7b-eb9b-4758c4e422f7"
      },
      "execution_count": 1,
      "outputs": [
        {
          "output_type": "stream",
          "name": "stdout",
          "text": [
            "113\n"
          ]
        }
      ]
    },
    {
      "cell_type": "code",
      "source": [
        "\"\"\"\n",
        "QSN-9-Explain the purpose and usage of the `map()` function in Python.\n",
        "\n",
        "ANS-map Applies a given function to each item of an iterable (such as a list, tuple, or string)\n",
        "       and returns a new iterable with the results.\n",
        "example;\n",
        "\"\"\"\n",
        "numbers = [1, 2, 3, 4, 5]\n",
        "mumber_plus_ten= list(map(lambda x: x+10, numbers))\n",
        "print(mumber_plus_ten)"
      ],
      "metadata": {
        "colab": {
          "base_uri": "https://localhost:8080/"
        },
        "id": "QeGN6RiipGho",
        "outputId": "59d43014-5e8c-46d9-f5c1-bd2d1c4dff06"
      },
      "execution_count": null,
      "outputs": [
        {
          "output_type": "stream",
          "name": "stdout",
          "text": [
            "[11, 12, 13, 14, 15]\n"
          ]
        }
      ]
    },
    {
      "cell_type": "code",
      "source": [
        "\"\"\"\n",
        "QSN-8-What is a lambda function in Python and when is it typically used.\n",
        "ANS-\n",
        "Lambda functions can be used to create a small, one-time-use function that doesn't need to be reused elsewhere in the code.\n",
        "It is a shorthand way to create a function without having to declare a named function with the def keyword.\n",
        "syntax of lambda is - lambda arguments: expression\n",
        "example;\n",
        "\"\"\"\n",
        "ans_lambda=lambda a:a**2\n",
        "print(ans_lambda(5))\n",
        "\n",
        "#using general process instead of lambda which will give same answer but in a lenghty way.\n",
        "def gen_way(x):\n",
        "  return x**2\n",
        "print(gen_way(5))"
      ],
      "metadata": {
        "colab": {
          "base_uri": "https://localhost:8080/"
        },
        "id": "XOCyNG7VqMYT",
        "outputId": "382e9655-1367-497a-95d6-9595c8edbcc5"
      },
      "execution_count": null,
      "outputs": [
        {
          "output_type": "stream",
          "name": "stdout",
          "text": [
            "25\n",
            "25\n"
          ]
        }
      ]
    },
    {
      "cell_type": "code",
      "source": [
        "\"\"\"\"\n",
        "QSN-7-What are the advantages of using generators over regular functions.\n",
        "ANS-\n",
        "advantages of using generators over regular functions are for various reasons such as.\n",
        "-Generators can be faster than regular functions because they avoid the overhead of creating and returning large lists.\n",
        "-Generators use significantly less memory than regular functions because they don't store the entire sequence of values in memory at once.\n",
        "-Generators can make code more readable by breaking down complex computations into smaller, more manageable pieces.\n",
        "-Generators can make error handling easier by allowing you to catch and handle exceptions as they occur, rather than having to handle them all at once.\n",
        "expalining all by example;\n",
        "\"\"\"\n",
        "def fib(n):\n",
        "  a=0\n",
        "  b=1\n",
        "  for i in range(n):\n",
        "    yield a\n",
        "    a,b=b,a+b\n",
        "ss=fib(8)\n",
        "next(ss) #and so on.\n",
        "\n",
        "#using general function for same task\n",
        "def fib(n):\n",
        "    a = 0\n",
        "    b = 1\n",
        "    fib_sequence = []\n",
        "    for i in range(n):\n",
        "        fib_sequence.append(a)\n",
        "        a, b = b, a + b\n",
        "    return fib_sequence\n",
        "n = 10\n",
        "fib_sequence = fib(n)\n",
        "print(fib_sequence)"
      ],
      "metadata": {
        "colab": {
          "base_uri": "https://localhost:8080/"
        },
        "id": "acHjlm_isFpd",
        "outputId": "14d8ad47-9fea-468d-a7bb-f1aeae5a93f6"
      },
      "execution_count": null,
      "outputs": [
        {
          "output_type": "stream",
          "name": "stdout",
          "text": [
            "[0, 1, 1, 2, 3, 5, 8, 13, 21, 34]\n"
          ]
        }
      ]
    },
    {
      "cell_type": "code",
      "source": [
        "\"\"\"\n",
        "QSN-6-Explain the concept of generators in Python and how they are defined.\n",
        "ANS-generator function used instead of general function to get result one by one rather result at a time in one go.\n",
        "    when given data size is large ,we use generator function whcih reduce computing time and took less memory.\n",
        "    example ;\n",
        "\"\"\"\n",
        "def gen_yld(n):\n",
        "  for i in range(n):\n",
        "    yield i**2\n",
        "s=(gen_yld(8))\n",
        "next(s) #output 0\n",
        "next(s) #output 1\n",
        "next(s) #output 4\n"
      ],
      "metadata": {
        "id": "IAj_gMdhsP6C",
        "colab": {
          "base_uri": "https://localhost:8080/"
        },
        "outputId": "7a0886e8-53d3-446a-f58d-93a21f1216b8"
      },
      "execution_count": null,
      "outputs": [
        {
          "output_type": "execute_result",
          "data": {
            "text/plain": [
              "4"
            ]
          },
          "metadata": {},
          "execution_count": 9
        }
      ]
    },
    {
      "cell_type": "code",
      "source": [
        "\"\"\"\n",
        "QSN-5-What are iterators in Python and how do they differ from iterables.\n",
        "ANS- An iterable-- is an object that can be iterated over, meaning it can be looped through or have its elements accessed one at a time.\n",
        "    examples of iterable is list,string,tuple,dictonaries,set.\n",
        "    numaric values like integer and floats are not iterable.\n",
        "An iterator-- is an object that keeps track of its position in an iterable and returns the next value each time it's called.\n",
        "Iterators have a __next__() method that returns the next value.\n",
        "example;\n",
        "\"\"\"\n",
        "task = [1, 2, 3,4]  # iterable\n",
        "iterable_objct= iter(task)  # iterator\n",
        "\n",
        "print(next(iterable_objct))  #output 1\n",
        "print(next(iterable_objct))  #output 2\n",
        "print(next(iterable_objct))  #output 3\n",
        "\n"
      ],
      "metadata": {
        "colab": {
          "base_uri": "https://localhost:8080/"
        },
        "id": "lKV5gso7wzPx",
        "outputId": "0d5d361c-7bf7-4929-98e4-2bdd8db43f15"
      },
      "execution_count": null,
      "outputs": [
        {
          "output_type": "stream",
          "name": "stdout",
          "text": [
            "1\n",
            "2\n",
            "3\n"
          ]
        }
      ]
    },
    {
      "cell_type": "code",
      "source": [
        "\"\"\"\n",
        "QSN-4-.What is the purpose of the `return` statement in a Python function.\n",
        "ANS-\n",
        "The  purpose of the return statement is to return a value from a function.\n",
        "absence of return statement in a function, Python will return nothing as output.\n",
        "example;\n",
        "\"\"\"\n",
        "def square_no(a):\n",
        "  return a*a\n",
        "square_no(10)"
      ],
      "metadata": {
        "id": "cLuxAWJL1A3c",
        "colab": {
          "base_uri": "https://localhost:8080/"
        },
        "outputId": "e7091e0a-1dfe-41cb-92f1-5a0db4e37d9e"
      },
      "execution_count": null,
      "outputs": [
        {
          "output_type": "execute_result",
          "data": {
            "text/plain": [
              "100"
            ]
          },
          "metadata": {},
          "execution_count": 2
        }
      ]
    },
    {
      "cell_type": "code",
      "source": [
        "\"\"\"\n",
        "QSN-1-What is the difference between a function and a method in Python\n",
        "function.\n",
        "function is a block of code which performs some specific task/computation.\n",
        "Functions are self-contained blocks of code that can be called from anywhere in a program.\n",
        "Functions are not associated with any particular class or object.\n",
        "\"\"\"\n",
        "#example\n",
        "def func():\n",
        "    print(\"This is a function\")\n",
        "\n",
        "func()\n",
        "#method.\n",
        "#method are not indepentent like function.\n",
        "#method is always accociated by a class.\n",
        "#example\n",
        "class bank:\n",
        "  def deposite(self):\n",
        "    print(\"i am depositing money\")\n",
        "  def withdraw(self):\n",
        "      print(\"i am withdrawing money\")\n",
        "c1=bank()\n",
        "c1.withdraw()\n",
        "#here deposite and withdraw are method as it is inside a class"
      ],
      "metadata": {
        "id": "BVXkMIUQVFrO",
        "colab": {
          "base_uri": "https://localhost:8080/"
        },
        "outputId": "6b183cad-754c-4e94-815f-c65657a86d5c"
      },
      "execution_count": null,
      "outputs": [
        {
          "output_type": "stream",
          "name": "stdout",
          "text": [
            "This is a function\n",
            "i am withdrawing money\n"
          ]
        }
      ]
    },
    {
      "cell_type": "code",
      "source": [
        "\"\"\"\n",
        "QSN-3. What are the different ways to define and call a function in Python.\n",
        "ANS-\n",
        "there are various types of function but expaining few among them which i have known better.\n",
        "\"\"\"\n",
        "#function with no argument\n",
        "def func():\n",
        "    print(\"This is a function with no argument\")\n",
        "func()\n",
        "#function with argument\n",
        "def square_no(x):\n",
        "  return x*x\n",
        "square_no(10)\n",
        "#default argement\n",
        "def sum1(b, c, a=0):\n",
        "    return a+b+c\n",
        "sum1(b=3, c=5)\n",
        "#function which takes any no of values and return the sum\n",
        "\n",
        "def sum2(*args):\n",
        "    s = 0\n",
        "    for i in args:\n",
        "        s = s+i\n",
        "    return s\n",
        "sum2(1, 2, 100)\n",
        "#functions having variable arguement with default arguement\n",
        "def test(*args, a):\n",
        "    return args, a\n",
        "test(1, 2, 3, 4, a = 100)"
      ],
      "metadata": {
        "colab": {
          "base_uri": "https://localhost:8080/"
        },
        "id": "g-95_EJEsL-L",
        "outputId": "9e6d48cf-1cd4-4f86-a6e2-3f71dcb96f07"
      },
      "execution_count": null,
      "outputs": [
        {
          "output_type": "stream",
          "name": "stdout",
          "text": [
            "This is a function with no argument\n"
          ]
        },
        {
          "output_type": "execute_result",
          "data": {
            "text/plain": [
              "((1, 2, 3, 4), 100)"
            ]
          },
          "metadata": {},
          "execution_count": 18
        }
      ]
    },
    {
      "cell_type": "code",
      "source": [],
      "metadata": {
        "id": "jCPc0RCJwzB7"
      },
      "execution_count": null,
      "outputs": []
    }
  ]
}